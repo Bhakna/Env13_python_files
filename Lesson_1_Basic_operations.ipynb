{
 "cells": [
  {
   "cell_type": "markdown",
   "metadata": {},
   "source": [
    "# Basics\n",
    "\n",
    "You can use Python as a calculator. Operators are similar to C or Fortran."
   ]
  },
  {
   "cell_type": "code",
   "execution_count": 2,
   "metadata": {},
   "outputs": [
    {
     "data": {
      "text/plain": [
       "5"
      ]
     },
     "execution_count": 2,
     "metadata": {},
     "output_type": "execute_result"
    }
   ],
   "source": [
    "3 + 2   # addition"
   ]
  },
  {
   "cell_type": "code",
   "execution_count": 3,
   "metadata": {},
   "outputs": [
    {
     "data": {
      "text/plain": [
       "6"
      ]
     },
     "execution_count": 3,
     "metadata": {},
     "output_type": "execute_result"
    }
   ],
   "source": [
    "3 * 2   # multiplication"
   ]
  },
  {
   "cell_type": "code",
   "execution_count": 4,
   "metadata": {},
   "outputs": [
    {
     "data": {
      "text/plain": [
       "9"
      ]
     },
     "execution_count": 4,
     "metadata": {},
     "output_type": "execute_result"
    }
   ],
   "source": [
    "3 ** 2   # exponential"
   ]
  },
  {
   "cell_type": "code",
   "execution_count": 5,
   "metadata": {},
   "outputs": [
    {
     "data": {
      "text/plain": [
       "1"
      ]
     },
     "execution_count": 5,
     "metadata": {},
     "output_type": "execute_result"
    }
   ],
   "source": [
    "3 - 2   # subtraction"
   ]
  },
  {
   "cell_type": "markdown",
   "metadata": {},
   "source": [
    "Older versions of python perform integer division for / operator. Latest version does float division. To force integer division, use // operator. Make sure either numerator or denominator is a float to ask for float division."
   ]
  },
  {
   "cell_type": "code",
   "execution_count": 6,
   "metadata": {},
   "outputs": [],
   "source": [
    "a = 3 // 2   # integral division"
   ]
  },
  {
   "cell_type": "code",
   "execution_count": 7,
   "metadata": {},
   "outputs": [
    {
     "data": {
      "text/plain": [
       "1"
      ]
     },
     "execution_count": 7,
     "metadata": {},
     "output_type": "execute_result"
    }
   ],
   "source": [
    "a"
   ]
  },
  {
   "cell_type": "code",
   "execution_count": 8,
   "metadata": {},
   "outputs": [
    {
     "data": {
      "text/plain": [
       "1.5"
      ]
     },
     "execution_count": 8,
     "metadata": {},
     "output_type": "execute_result"
    }
   ],
   "source": [
    "3.0 / 2.0   # division"
   ]
  },
  {
   "cell_type": "code",
   "execution_count": 9,
   "metadata": {},
   "outputs": [
    {
     "data": {
      "text/plain": [
       "int"
      ]
     },
     "execution_count": 9,
     "metadata": {},
     "output_type": "execute_result"
    }
   ],
   "source": [
    "type(a)    # data type"
   ]
  },
  {
   "cell_type": "markdown",
   "metadata": {},
   "source": [
    "You can import a module to start using all the features of that module. The math module is important to offer you the features of a scientific calculator."
   ]
  },
  {
   "cell_type": "code",
   "execution_count": 10,
   "metadata": {},
   "outputs": [],
   "source": [
    "import math"
   ]
  },
  {
   "cell_type": "markdown",
   "metadata": {},
   "source": [
    "Using the function dir, you can inspect the methods and the data offered by any object or module. You can use it at any depth of the object heirarchy."
   ]
  },
  {
   "cell_type": "code",
   "execution_count": 11,
   "metadata": {},
   "outputs": [
    {
     "data": {
      "text/plain": [
       "['__doc__',\n",
       " '__file__',\n",
       " '__loader__',\n",
       " '__name__',\n",
       " '__package__',\n",
       " '__spec__',\n",
       " 'acos',\n",
       " 'acosh',\n",
       " 'asin',\n",
       " 'asinh',\n",
       " 'atan',\n",
       " 'atan2',\n",
       " 'atanh',\n",
       " 'cbrt',\n",
       " 'ceil',\n",
       " 'comb',\n",
       " 'copysign',\n",
       " 'cos',\n",
       " 'cosh',\n",
       " 'degrees',\n",
       " 'dist',\n",
       " 'e',\n",
       " 'erf',\n",
       " 'erfc',\n",
       " 'exp',\n",
       " 'exp2',\n",
       " 'expm1',\n",
       " 'fabs',\n",
       " 'factorial',\n",
       " 'floor',\n",
       " 'fmod',\n",
       " 'frexp',\n",
       " 'fsum',\n",
       " 'gamma',\n",
       " 'gcd',\n",
       " 'hypot',\n",
       " 'inf',\n",
       " 'isclose',\n",
       " 'isfinite',\n",
       " 'isinf',\n",
       " 'isnan',\n",
       " 'isqrt',\n",
       " 'lcm',\n",
       " 'ldexp',\n",
       " 'lgamma',\n",
       " 'log',\n",
       " 'log10',\n",
       " 'log1p',\n",
       " 'log2',\n",
       " 'modf',\n",
       " 'nan',\n",
       " 'nextafter',\n",
       " 'perm',\n",
       " 'pi',\n",
       " 'pow',\n",
       " 'prod',\n",
       " 'radians',\n",
       " 'remainder',\n",
       " 'sin',\n",
       " 'sinh',\n",
       " 'sqrt',\n",
       " 'tan',\n",
       " 'tanh',\n",
       " 'tau',\n",
       " 'trunc',\n",
       " 'ulp']"
      ]
     },
     "execution_count": 11,
     "metadata": {},
     "output_type": "execute_result"
    }
   ],
   "source": [
    "dir(math)"
   ]
  },
  {
   "cell_type": "code",
   "execution_count": 12,
   "metadata": {},
   "outputs": [
    {
     "data": {
      "text/plain": [
       "0.8414709848078965"
      ]
     },
     "execution_count": 12,
     "metadata": {},
     "output_type": "execute_result"
    }
   ],
   "source": [
    "math.sin(a)"
   ]
  },
  {
   "cell_type": "code",
   "execution_count": 13,
   "metadata": {},
   "outputs": [
    {
     "data": {
      "text/plain": [
       "3.141592653589793"
      ]
     },
     "execution_count": 13,
     "metadata": {},
     "output_type": "execute_result"
    }
   ],
   "source": [
    "math.pi"
   ]
  },
  {
   "cell_type": "code",
   "execution_count": 14,
   "metadata": {},
   "outputs": [
    {
     "data": {
      "text/plain": [
       "float"
      ]
     },
     "execution_count": 14,
     "metadata": {},
     "output_type": "execute_result"
    }
   ],
   "source": [
    "type(math.pi)"
   ]
  },
  {
   "cell_type": "code",
   "execution_count": 15,
   "metadata": {},
   "outputs": [
    {
     "data": {
      "text/plain": [
       "2.718281828459045"
      ]
     },
     "execution_count": 15,
     "metadata": {},
     "output_type": "execute_result"
    }
   ],
   "source": [
    "math.e"
   ]
  },
  {
   "cell_type": "markdown",
   "metadata": {},
   "source": [
    "The module sys has information about the limits of the system representation of data types."
   ]
  },
  {
   "cell_type": "code",
   "execution_count": 16,
   "metadata": {},
   "outputs": [],
   "source": [
    "import sys"
   ]
  },
  {
   "cell_type": "code",
   "execution_count": 17,
   "metadata": {},
   "outputs": [
    {
     "data": {
      "text/plain": [
       "['__breakpointhook__',\n",
       " '__displayhook__',\n",
       " '__doc__',\n",
       " '__excepthook__',\n",
       " '__interactivehook__',\n",
       " '__loader__',\n",
       " '__name__',\n",
       " '__package__',\n",
       " '__spec__',\n",
       " '__stderr__',\n",
       " '__stdin__',\n",
       " '__stdout__',\n",
       " '__unraisablehook__',\n",
       " '_base_executable',\n",
       " '_clear_type_cache',\n",
       " '_current_exceptions',\n",
       " '_current_frames',\n",
       " '_debugmallocstats',\n",
       " '_framework',\n",
       " '_getframe',\n",
       " '_getquickenedcount',\n",
       " '_git',\n",
       " '_home',\n",
       " '_stdlib_dir',\n",
       " '_xoptions',\n",
       " 'abiflags',\n",
       " 'addaudithook',\n",
       " 'api_version',\n",
       " 'argv',\n",
       " 'audit',\n",
       " 'base_exec_prefix',\n",
       " 'base_prefix',\n",
       " 'breakpointhook',\n",
       " 'builtin_module_names',\n",
       " 'byteorder',\n",
       " 'call_tracing',\n",
       " 'copyright',\n",
       " 'displayhook',\n",
       " 'dont_write_bytecode',\n",
       " 'exc_info',\n",
       " 'excepthook',\n",
       " 'exception',\n",
       " 'exec_prefix',\n",
       " 'executable',\n",
       " 'exit',\n",
       " 'flags',\n",
       " 'float_info',\n",
       " 'float_repr_style',\n",
       " 'get_asyncgen_hooks',\n",
       " 'get_coroutine_origin_tracking_depth',\n",
       " 'get_int_max_str_digits',\n",
       " 'getallocatedblocks',\n",
       " 'getdefaultencoding',\n",
       " 'getdlopenflags',\n",
       " 'getfilesystemencodeerrors',\n",
       " 'getfilesystemencoding',\n",
       " 'getprofile',\n",
       " 'getrecursionlimit',\n",
       " 'getrefcount',\n",
       " 'getsizeof',\n",
       " 'getswitchinterval',\n",
       " 'gettrace',\n",
       " 'hash_info',\n",
       " 'hexversion',\n",
       " 'implementation',\n",
       " 'int_info',\n",
       " 'intern',\n",
       " 'is_finalizing',\n",
       " 'last_traceback',\n",
       " 'last_type',\n",
       " 'last_value',\n",
       " 'maxsize',\n",
       " 'maxunicode',\n",
       " 'meta_path',\n",
       " 'modules',\n",
       " 'orig_argv',\n",
       " 'path',\n",
       " 'path_hooks',\n",
       " 'path_importer_cache',\n",
       " 'platform',\n",
       " 'platlibdir',\n",
       " 'prefix',\n",
       " 'ps1',\n",
       " 'ps2',\n",
       " 'ps3',\n",
       " 'pycache_prefix',\n",
       " 'set_asyncgen_hooks',\n",
       " 'set_coroutine_origin_tracking_depth',\n",
       " 'set_int_max_str_digits',\n",
       " 'setdlopenflags',\n",
       " 'setprofile',\n",
       " 'setrecursionlimit',\n",
       " 'setswitchinterval',\n",
       " 'settrace',\n",
       " 'stderr',\n",
       " 'stdin',\n",
       " 'stdlib_module_names',\n",
       " 'stdout',\n",
       " 'thread_info',\n",
       " 'unraisablehook',\n",
       " 'version',\n",
       " 'version_info',\n",
       " 'warnoptions']"
      ]
     },
     "execution_count": 17,
     "metadata": {},
     "output_type": "execute_result"
    }
   ],
   "source": [
    "dir(sys)"
   ]
  },
  {
   "cell_type": "markdown",
   "metadata": {},
   "source": [
    "Use the help function to ask for help on any module or a method or data under it. You can also use it to ask for names of modules that you can import."
   ]
  },
  {
   "cell_type": "code",
   "execution_count": 18,
   "metadata": {},
   "outputs": [
    {
     "name": "stdout",
     "output_type": "stream",
     "text": [
      "\n",
      "Please wait a moment while I gather a list of all available modules...\n",
      "\n",
      "test_sqlite3: testing with version '2.6.0', sqlite_version '3.46.0'\n"
     ]
    },
    {
     "name": "stderr",
     "output_type": "stream",
     "text": [
      "/opt/homebrew/Cellar/python@3.11/3.11.9/Frameworks/Python.framework/Versions/3.11/lib/python3.11/pkgutil.py:92: UserWarning: The numpy.array_api submodule is still experimental. See NEP 47.\n",
      "  __import__(info.name)\n",
      "/opt/homebrew/Cellar/python@3.11/3.11.9/Frameworks/Python.framework/Versions/3.11/lib/python3.11/site-packages/_distutils_hack/__init__.py:26: UserWarning: Setuptools is replacing distutils.\n",
      "  warnings.warn(\"Setuptools is replacing distutils.\")\n"
     ]
    },
    {
     "name": "stdout",
     "output_type": "stream",
     "text": [
      "pygame 2.5.2 (SDL 2.28.3, Python 3.11.9)\n",
      "Hello from the pygame community. https://www.pygame.org/contribute.html\n",
      "IPython             appnope             ipywidgets          reprlib\n",
      "PIL                 argon2              isoduration         resource\n",
      "PyQt5               argparse            itertools           rfc3339_validator\n",
      "UI                  array               jedi                rfc3986_validator\n",
      "__future__          arrow               jinja2              rlcompleter\n",
      "__hello__           ast                 json                rpds\n",
      "__phello__          asttokens           jsonpointer         runpy\n",
      "_abc                asynchat            jsonschema          sched\n",
      "_aix_support        asyncio             jsonschema_specifications scipy\n",
      "_argon2_cffi_bindings asyncore            jupyter             secrets\n",
      "_ast                atexit              jupyter_client      select\n",
      "_asyncio            attr                jupyter_console     selectors\n",
      "_bisect             attrs               jupyter_core        send2trash\n",
      "_blake2             audioop             jupyter_events      setuptools\n",
      "_bootsubprocess     backcall            jupyter_server      shelve\n",
      "_bz2                base64              jupyter_server_terminals shlex\n",
      "_cffi_backend       bdb                 jupyterlab_pygments shutil\n",
      "_codecs             binascii            jupyterlab_widgets  signal\n",
      "_codecs_cn          bisect              keyword             site\n",
      "_codecs_hk          bleach              kiwisolver          sitecustomize\n",
      "_codecs_iso2022     bs4                 lib2to3             six\n",
      "_codecs_jp          builtins            linecache           smtpd\n",
      "_codecs_kr          bz2                 locale              smtplib\n",
      "_codecs_tw          cProfile            logging             sndhdr\n",
      "_collections        calendar            lzma                sniffio\n",
      "_collections_abc    cffi                mailbox             socket\n",
      "_compat_pickle      cgi                 mailcap             socketserver\n",
      "_compression        cgitb               markupsafe          soupsieve\n",
      "_contextvars        chunk               marshal             sqlite3\n",
      "_crypt              cmath               math                sre_compile\n",
      "_csv                cmd                 matplotlib          sre_constants\n",
      "_ctypes             code                matplotlib_inline   sre_parse\n",
      "_ctypes_test        codecs              mimetypes           ssl\n",
      "_curses             codeop              mistune             stack_data\n",
      "_curses_panel       collections         mmap                stat\n",
      "_datetime           colorsys            modulefinder        statistics\n",
      "_dbm                comm                multiprocessing     string\n",
      "_decimal            compileall          nbclassic           stringprep\n",
      "_distutils_hack     concurrent          nbclient            struct\n",
      "_elementtree        configparser        nbconvert           subprocess\n",
      "_functools          contextlib          nbformat            sunau\n",
      "_hashlib            contextvars         nest_asyncio        symtable\n",
      "_heapq              contourpy           netrc               sys\n",
      "_imp                copy                nis                 sysconfig\n",
      "_io                 copyreg             nntplib             syslog\n",
      "_json               crypt               notebook            tabnanny\n",
      "_locale             csv                 notebook_shim       tarfile\n",
      "_lsprof             ctypes              ntpath              telnetlib\n",
      "_lzma               curses              nturl2path          tempfile\n",
      "_markupbase         cycler              numbers             terminado\n",
      "_md5                dataclasses         numpy               termios\n",
      "_multibytecodec     datetime            opcode              test\n",
      "_multiprocessing    dateutil            operator            textwrap\n",
      "_opcode             dbm                 optparse            this\n",
      "_operator           debugpy             os                  threading\n",
      "_osx_support        decimal             overrides           time\n",
      "_pickle             decorator           packaging           timeit\n",
      "_posixshmem         defusedxml          pandas              tinycss2\n",
      "_posixsubprocess    difflib             pandocfilters       tkinter\n",
      "_py_abc             dis                 parso               token\n",
      "_pydecimal          distutils           pathlib             tokenize\n",
      "_pyio               doctest             pdb                 tomllib\n",
      "_queue              email               pexpect             tornado\n",
      "_random             encodings           pickle              tqdm\n",
      "_scproxy            ensurepip           pickleshare         trace\n",
      "_sha1               enum                pickletools         traceback\n",
      "_sha256             errno               pip                 tracemalloc\n",
      "_sha3               executing           pipes               traitlets\n",
      "_sha512             fastjsonschema      pkg_resources       tty\n",
      "_signal             faulthandler        pkgutil             turtle\n",
      "_sitebuiltins       fcntl               platform            turtledemo\n",
      "_socket             filecmp             platformdirs        types\n",
      "_sqlite3            fileinput           plistlib            typing\n",
      "_sre                fnmatch             poplib              tzdata\n",
      "_ssl                fontTools           posix               unicodedata\n",
      "_stat               fqdn                posixpath           unittest\n",
      "_statistics         fractions           pprint              uri_template\n",
      "_string             ftplib              profile             urllib\n",
      "_strptime           functools           prometheus_client   uu\n",
      "_struct             gc                  prompt_toolkit      uuid\n",
      "_symtable           genericpath         pstats              venv\n",
      "_sysconfigdata__darwin_darwin getopt              psutil              warnings\n",
      "_testbuffer         getpass             pty                 wave\n",
      "_testcapi           gettext             ptyprocess          wcwidth\n",
      "_testclinic         glob                pure_eval           weakref\n",
      "_testimportmultiple graphlib            pwd                 webbrowser\n",
      "_testinternalcapi   grp                 py_compile          webcolors\n",
      "_testmultiphase     gzip                pyclbr              webencodings\n",
      "_thread             hashlib             pycparser           websocket\n",
      "_threading_local    heapq               pydoc               wheel\n",
      "_tkinter            hmac                pydoc_data          widgetsnbextension\n",
      "_tokenize           html                pyexpat             wsgiref\n",
      "_tracemalloc        http                pygame              xdrlib\n",
      "_typing             idlelib             pygments            xml\n",
      "_uuid               idna                pylab               xmlrpc\n",
      "_warnings           imaplib             pyparsing           xxlimited\n",
      "_weakref            img_matrix_changes  pythonjsonlogger    xxlimited_35\n",
      "_weakrefset         imghdr              pytz                xxsubtype\n",
      "_xxsubinterpreters  imp                 qtconsole           yaml\n",
      "_xxtestfuzz         importlib           qtpy                zipapp\n",
      "_yaml               inspect             queue               zipfile\n",
      "_zoneinfo           io                  quopri              zipimport\n",
      "abc                 ipaddress           random              zlib\n",
      "aifc                ipykernel           re                  zmq\n",
      "antigravity         ipykernel_launcher  readline            zoneinfo\n",
      "anyio               ipython_genutils    referencing         \n",
      "\n",
      "Enter any module name to get more help.  Or, type \"modules spam\" to search\n",
      "for modules whose name or summary contain the string \"spam\".\n",
      "\n"
     ]
    }
   ],
   "source": [
    "help('modules')"
   ]
  },
  {
   "cell_type": "code",
   "execution_count": 19,
   "metadata": {},
   "outputs": [],
   "source": [
    "import sys"
   ]
  },
  {
   "cell_type": "code",
   "execution_count": 20,
   "metadata": {},
   "outputs": [
    {
     "data": {
      "text/plain": [
       "['__add__',\n",
       " '__class__',\n",
       " '__class_getitem__',\n",
       " '__contains__',\n",
       " '__delattr__',\n",
       " '__dir__',\n",
       " '__doc__',\n",
       " '__eq__',\n",
       " '__format__',\n",
       " '__ge__',\n",
       " '__getattribute__',\n",
       " '__getitem__',\n",
       " '__getnewargs__',\n",
       " '__getstate__',\n",
       " '__gt__',\n",
       " '__hash__',\n",
       " '__init__',\n",
       " '__init_subclass__',\n",
       " '__iter__',\n",
       " '__le__',\n",
       " '__len__',\n",
       " '__lt__',\n",
       " '__match_args__',\n",
       " '__mul__',\n",
       " '__ne__',\n",
       " '__new__',\n",
       " '__reduce__',\n",
       " '__reduce_ex__',\n",
       " '__repr__',\n",
       " '__rmul__',\n",
       " '__setattr__',\n",
       " '__sizeof__',\n",
       " '__str__',\n",
       " '__subclasshook__',\n",
       " 'count',\n",
       " 'dig',\n",
       " 'epsilon',\n",
       " 'index',\n",
       " 'mant_dig',\n",
       " 'max',\n",
       " 'max_10_exp',\n",
       " 'max_exp',\n",
       " 'min',\n",
       " 'min_10_exp',\n",
       " 'min_exp',\n",
       " 'n_fields',\n",
       " 'n_sequence_fields',\n",
       " 'n_unnamed_fields',\n",
       " 'radix',\n",
       " 'rounds']"
      ]
     },
     "execution_count": 20,
     "metadata": {},
     "output_type": "execute_result"
    }
   ],
   "source": [
    "dir(sys.float_info)"
   ]
  },
  {
   "cell_type": "code",
   "execution_count": 21,
   "metadata": {},
   "outputs": [
    {
     "data": {
      "text/plain": [
       "2.2250738585072014e-308"
      ]
     },
     "execution_count": 21,
     "metadata": {},
     "output_type": "execute_result"
    }
   ],
   "source": [
    "sys.float_info.min"
   ]
  },
  {
   "cell_type": "code",
   "execution_count": 22,
   "metadata": {},
   "outputs": [
    {
     "data": {
      "text/plain": [
       "1.7976931348623157e+308"
      ]
     },
     "execution_count": 22,
     "metadata": {},
     "output_type": "execute_result"
    }
   ],
   "source": [
    "sys.float_info.max"
   ]
  },
  {
   "cell_type": "code",
   "execution_count": 23,
   "metadata": {},
   "outputs": [
    {
     "data": {
      "text/plain": [
       "2.220446049250313e-16"
      ]
     },
     "execution_count": 23,
     "metadata": {},
     "output_type": "execute_result"
    }
   ],
   "source": [
    "sys.float_info.epsilon"
   ]
  },
  {
   "cell_type": "code",
   "execution_count": 24,
   "metadata": {},
   "outputs": [
    {
     "data": {
      "text/plain": [
       "0.010000000000000002"
      ]
     },
     "execution_count": 24,
     "metadata": {},
     "output_type": "execute_result"
    }
   ],
   "source": [
    "0.1**2"
   ]
  },
  {
   "cell_type": "code",
   "execution_count": 25,
   "metadata": {},
   "outputs": [],
   "source": [
    "a = 1e14"
   ]
  },
  {
   "cell_type": "code",
   "execution_count": 26,
   "metadata": {},
   "outputs": [],
   "source": [
    "b = 25.44"
   ]
  },
  {
   "cell_type": "code",
   "execution_count": 27,
   "metadata": {},
   "outputs": [],
   "source": [
    "c = 0.74"
   ]
  },
  {
   "cell_type": "code",
   "execution_count": 28,
   "metadata": {},
   "outputs": [
    {
     "data": {
      "text/plain": [
       "100000000000026.17"
      ]
     },
     "execution_count": 28,
     "metadata": {},
     "output_type": "execute_result"
    }
   ],
   "source": [
    "(a+b)+c"
   ]
  },
  {
   "cell_type": "code",
   "execution_count": 29,
   "metadata": {},
   "outputs": [
    {
     "data": {
      "text/plain": [
       "100000000000026.19"
      ]
     },
     "execution_count": 29,
     "metadata": {},
     "output_type": "execute_result"
    }
   ],
   "source": [
    "a+(b+c)"
   ]
  }
 ],
 "metadata": {
  "kernelspec": {
   "display_name": "Python 3 (ipykernel)",
   "language": "python",
   "name": "python3"
  },
  "language_info": {
   "codemirror_mode": {
    "name": "ipython",
    "version": 3
   },
   "file_extension": ".py",
   "mimetype": "text/x-python",
   "name": "python",
   "nbconvert_exporter": "python",
   "pygments_lexer": "ipython3",
   "version": "3.11.9"
  }
 },
 "nbformat": 4,
 "nbformat_minor": 2
}
